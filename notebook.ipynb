{
 "cells": [
  {
   "cell_type": "code",
   "outputs": [],
   "source": [
    "import pandas as pd\n",
    "from bs4 import BeautifulSoup\n",
    "from datetime import datetime\n",
    "import requests"
   ],
   "metadata": {
    "collapsed": false,
    "ExecuteTime": {
     "end_time": "2024-07-19T16:51:23.779118Z",
     "start_time": "2024-07-19T16:51:22.800252Z"
    }
   },
   "id": "907ed8bb2398c35e",
   "execution_count": 1
  },
  {
   "cell_type": "code",
   "outputs": [],
   "source": [
    "def log_progress(message):\n",
    "    time_format = '%Y-%m-%d %H:%M:%S'\n",
    "    now = datetime.now()\n",
    "    timestamps =  now.strftime(time_format)\n",
    "    with open('log.txt' , 'a') as file:\n",
    "        file.write(timestamps+'  '+message+'\\n')"
   ],
   "metadata": {
    "collapsed": true,
    "ExecuteTime": {
     "end_time": "2024-07-19T16:55:06.632113Z",
     "start_time": "2024-07-19T16:55:06.627086Z"
    }
   },
   "id": "initial_id",
   "execution_count": 2
  },
  {
   "cell_type": "code",
   "outputs": [],
   "source": [
    "url = 'https://web.archive.org/web/20230908091635 /https://en.wikipedia.org/wiki/List_of_largest_banks'\n",
    "page = requests.get(url).text\n",
    "soup = BeautifulSoup(page,'html.parser')\n",
    "\n"
   ],
   "metadata": {
    "collapsed": false,
    "ExecuteTime": {
     "end_time": "2024-07-19T17:16:54.986456Z",
     "start_time": "2024-07-19T17:16:53.459655Z"
    }
   },
   "id": "a0d02b17e971fe58",
   "execution_count": 49
  },
  {
   "cell_type": "code",
   "outputs": [
    {
     "data": {
      "text/plain": "{'Rank': ['1', '2', '3', '4', '5', '6', '7', '8', '9', '10'],\n 'Bank_Name': ['JPMorgan Chase',\n  'Bank of America',\n  'Industrial and Commercial Bank of China',\n  'Agricultural Bank of China',\n  'HDFC Bank',\n  'Wells Fargo',\n  'HSBC Holdings PLC',\n  'Morgan Stanley',\n  'China Construction Bank',\n  'Bank of China'],\n 'MC_USD_Billion': ['432.92',\n  '231.52',\n  '194.56',\n  '160.68',\n  '157.91',\n  '155.87',\n  '148.90',\n  '140.83',\n  '139.82',\n  '136.81']}"
     },
     "execution_count": 47,
     "metadata": {},
     "output_type": "execute_result"
    }
   ],
   "source": [
    "dictionary = {\n",
    "    'Rank': [],\n",
    "    'Bank_Name':[],\n",
    "    'MC_USD_Billion':[]\n",
    "}\n",
    "table = soup.find('tbody')\n",
    "for index , row in enumerate(table.find_all('tr')):\n",
    "    \n",
    "    if row and index != 0:\n",
    "        cols = row.find_all('td')\n",
    "        dictionary['Rank'].append(cols[0].contents[0].replace('\\n' , ''))\n",
    "        dictionary['Bank_Name'].append(cols[1].find_all('a')[1].contents[0].replace('\\n' , ''))\n",
    "        dictionary['MC_USD_Billion'].append(cols[2].contents[0].replace('\\n' , ''))\n",
    "        \n",
    "dictionary"
   ],
   "metadata": {
    "collapsed": false,
    "ExecuteTime": {
     "end_time": "2024-07-19T17:16:41.663515Z",
     "start_time": "2024-07-19T17:16:41.654969Z"
    }
   },
   "id": "1315d5ac4811dcd3",
   "execution_count": 47
  },
  {
   "cell_type": "code",
   "outputs": [
    {
     "data": {
      "text/plain": "['Rank', 'Bank_Name', 'MC_USD_Billion']"
     },
     "execution_count": 41,
     "metadata": {},
     "output_type": "execute_result"
    }
   ],
   "source": [
    "list(dictionary.keys())"
   ],
   "metadata": {
    "collapsed": false,
    "ExecuteTime": {
     "end_time": "2024-07-19T17:13:39.240644Z",
     "start_time": "2024-07-19T17:13:39.236776Z"
    }
   },
   "id": "67e6bcae11b320ab",
   "execution_count": 41
  },
  {
   "cell_type": "code",
   "outputs": [
    {
     "data": {
      "text/plain": "  Rank                                Bank_Name MC_USD_Billion\n0    1                           JPMorgan Chase         432.92\n1    2                          Bank of America         231.52\n2    3  Industrial and Commercial Bank of China         194.56\n3    4               Agricultural Bank of China         160.68\n4    5                                HDFC Bank         157.91\n5    6                              Wells Fargo         155.87\n6    7                        HSBC Holdings PLC         148.90\n7    8                           Morgan Stanley         140.83\n8    9                  China Construction Bank         139.82\n9   10                            Bank of China         136.81",
      "text/html": "<div>\n<style scoped>\n    .dataframe tbody tr th:only-of-type {\n        vertical-align: middle;\n    }\n\n    .dataframe tbody tr th {\n        vertical-align: top;\n    }\n\n    .dataframe thead th {\n        text-align: right;\n    }\n</style>\n<table border=\"1\" class=\"dataframe\">\n  <thead>\n    <tr style=\"text-align: right;\">\n      <th></th>\n      <th>Rank</th>\n      <th>Bank_Name</th>\n      <th>MC_USD_Billion</th>\n    </tr>\n  </thead>\n  <tbody>\n    <tr>\n      <th>0</th>\n      <td>1</td>\n      <td>JPMorgan Chase</td>\n      <td>432.92</td>\n    </tr>\n    <tr>\n      <th>1</th>\n      <td>2</td>\n      <td>Bank of America</td>\n      <td>231.52</td>\n    </tr>\n    <tr>\n      <th>2</th>\n      <td>3</td>\n      <td>Industrial and Commercial Bank of China</td>\n      <td>194.56</td>\n    </tr>\n    <tr>\n      <th>3</th>\n      <td>4</td>\n      <td>Agricultural Bank of China</td>\n      <td>160.68</td>\n    </tr>\n    <tr>\n      <th>4</th>\n      <td>5</td>\n      <td>HDFC Bank</td>\n      <td>157.91</td>\n    </tr>\n    <tr>\n      <th>5</th>\n      <td>6</td>\n      <td>Wells Fargo</td>\n      <td>155.87</td>\n    </tr>\n    <tr>\n      <th>6</th>\n      <td>7</td>\n      <td>HSBC Holdings PLC</td>\n      <td>148.90</td>\n    </tr>\n    <tr>\n      <th>7</th>\n      <td>8</td>\n      <td>Morgan Stanley</td>\n      <td>140.83</td>\n    </tr>\n    <tr>\n      <th>8</th>\n      <td>9</td>\n      <td>China Construction Bank</td>\n      <td>139.82</td>\n    </tr>\n    <tr>\n      <th>9</th>\n      <td>10</td>\n      <td>Bank of China</td>\n      <td>136.81</td>\n    </tr>\n  </tbody>\n</table>\n</div>"
     },
     "execution_count": 50,
     "metadata": {},
     "output_type": "execute_result"
    }
   ],
   "source": [
    "data = pd.DataFrame(dictionary , columns = list(dictionary.keys()))\n",
    "data"
   ],
   "metadata": {
    "collapsed": false,
    "ExecuteTime": {
     "end_time": "2024-07-19T17:16:58.542097Z",
     "start_time": "2024-07-19T17:16:58.533811Z"
    }
   },
   "id": "6b65165023dd8062",
   "execution_count": 50
  },
  {
   "cell_type": "code",
   "outputs": [
    {
     "data": {
      "text/plain": "  Currency   Rate\n0      EUR   0.93\n1      GBP   0.80\n2      INR  82.95",
      "text/html": "<div>\n<style scoped>\n    .dataframe tbody tr th:only-of-type {\n        vertical-align: middle;\n    }\n\n    .dataframe tbody tr th {\n        vertical-align: top;\n    }\n\n    .dataframe thead th {\n        text-align: right;\n    }\n</style>\n<table border=\"1\" class=\"dataframe\">\n  <thead>\n    <tr style=\"text-align: right;\">\n      <th></th>\n      <th>Currency</th>\n      <th>Rate</th>\n    </tr>\n  </thead>\n  <tbody>\n    <tr>\n      <th>0</th>\n      <td>EUR</td>\n      <td>0.93</td>\n    </tr>\n    <tr>\n      <th>1</th>\n      <td>GBP</td>\n      <td>0.80</td>\n    </tr>\n    <tr>\n      <th>2</th>\n      <td>INR</td>\n      <td>82.95</td>\n    </tr>\n  </tbody>\n</table>\n</div>"
     },
     "execution_count": 51,
     "metadata": {},
     "output_type": "execute_result"
    }
   ],
   "source": [
    "exchange_rate_data = pd.read_csv('exchange_rate.csv')\n",
    "exchange_rate_data"
   ],
   "metadata": {
    "collapsed": false,
    "ExecuteTime": {
     "end_time": "2024-07-19T17:17:05.765635Z",
     "start_time": "2024-07-19T17:17:05.755019Z"
    }
   },
   "id": "865aa5c585201543",
   "execution_count": 51
  },
  {
   "cell_type": "code",
   "outputs": [],
   "source": [
    "data['MC_USD_Billion'] = data['MC_USD_Billion'].astype(float)"
   ],
   "metadata": {
    "collapsed": false,
    "ExecuteTime": {
     "end_time": "2024-07-19T18:04:18.491360Z",
     "start_time": "2024-07-19T18:04:18.483070Z"
    }
   },
   "id": "a9eab182c106695c",
   "execution_count": 56
  },
  {
   "cell_type": "code",
   "outputs": [
    {
     "data": {
      "text/plain": "Currency     object\nRate        float64\ndtype: object"
     },
     "execution_count": 58,
     "metadata": {},
     "output_type": "execute_result"
    }
   ],
   "source": [
    "exchange_rate_data.dtypes"
   ],
   "metadata": {
    "collapsed": false,
    "ExecuteTime": {
     "end_time": "2024-07-19T18:04:42.339165Z",
     "start_time": "2024-07-19T18:04:42.333149Z"
    }
   },
   "id": "35e87817a5d4b7d8",
   "execution_count": 58
  },
  {
   "cell_type": "code",
   "outputs": [],
   "source": [
    "import numpy as np"
   ],
   "metadata": {
    "collapsed": false,
    "ExecuteTime": {
     "end_time": "2024-07-19T18:05:59.666163Z",
     "start_time": "2024-07-19T18:05:59.662552Z"
    }
   },
   "id": "eedcd4c3cf240413",
   "execution_count": 60
  },
  {
   "cell_type": "code",
   "outputs": [
    {
     "name": "stdout",
     "output_type": "stream",
     "text": [
      "0.93\n",
      "0.8\n",
      "82.95\n"
     ]
    }
   ],
   "source": [
    "EUR_rate = exchange_rate_data['Rate'].loc[exchange_rate_data['Currency'] == 'EUR'].values[0]\n",
    "GBP_rate = exchange_rate_data['Rate'].loc[exchange_rate_data['Currency'] == 'GBP'].values[0]\n",
    "INR_rate = exchange_rate_data['Rate'].loc[exchange_rate_data['Currency'] == 'INR'].values[0]\n",
    "print(EUR_rate)\n",
    "print(GBP_rate)\n",
    "print(INR_rate)"
   ],
   "metadata": {
    "collapsed": false,
    "ExecuteTime": {
     "end_time": "2024-07-19T18:15:15.369819Z",
     "start_time": "2024-07-19T18:15:15.363465Z"
    }
   },
   "id": "70e4878993fcf924",
   "execution_count": 78
  },
  {
   "cell_type": "code",
   "outputs": [
    {
     "data": {
      "text/plain": "                                 Bank_Name  MC_USD_Billion  MC_EUR_Billion  \\\n0                           JPMorgan Chase          432.92           403.0   \n1                          Bank of America          231.52           215.0   \n2  Industrial and Commercial Bank of China          194.56           181.0   \n3               Agricultural Bank of China          160.68           149.0   \n4                                HDFC Bank          157.91           147.0   \n5                              Wells Fargo          155.87           145.0   \n6                        HSBC Holdings PLC          148.90           138.0   \n7                           Morgan Stanley          140.83           131.0   \n8                  China Construction Bank          139.82           130.0   \n9                            Bank of China          136.81           127.0   \n\n   MC_GBP_Billion  MC_INR_Billion  \n0           346.0         35911.0  \n1           185.0         19205.0  \n2           156.0         16139.0  \n3           129.0         13328.0  \n4           126.0         13099.0  \n5           125.0         12929.0  \n6           119.0         12351.0  \n7           113.0         11682.0  \n8           112.0         11598.0  \n9           109.0         11348.0  ",
      "text/html": "<div>\n<style scoped>\n    .dataframe tbody tr th:only-of-type {\n        vertical-align: middle;\n    }\n\n    .dataframe tbody tr th {\n        vertical-align: top;\n    }\n\n    .dataframe thead th {\n        text-align: right;\n    }\n</style>\n<table border=\"1\" class=\"dataframe\">\n  <thead>\n    <tr style=\"text-align: right;\">\n      <th></th>\n      <th>Bank_Name</th>\n      <th>MC_USD_Billion</th>\n      <th>MC_EUR_Billion</th>\n      <th>MC_GBP_Billion</th>\n      <th>MC_INR_Billion</th>\n    </tr>\n  </thead>\n  <tbody>\n    <tr>\n      <th>0</th>\n      <td>JPMorgan Chase</td>\n      <td>432.92</td>\n      <td>403.0</td>\n      <td>346.0</td>\n      <td>35911.0</td>\n    </tr>\n    <tr>\n      <th>1</th>\n      <td>Bank of America</td>\n      <td>231.52</td>\n      <td>215.0</td>\n      <td>185.0</td>\n      <td>19205.0</td>\n    </tr>\n    <tr>\n      <th>2</th>\n      <td>Industrial and Commercial Bank of China</td>\n      <td>194.56</td>\n      <td>181.0</td>\n      <td>156.0</td>\n      <td>16139.0</td>\n    </tr>\n    <tr>\n      <th>3</th>\n      <td>Agricultural Bank of China</td>\n      <td>160.68</td>\n      <td>149.0</td>\n      <td>129.0</td>\n      <td>13328.0</td>\n    </tr>\n    <tr>\n      <th>4</th>\n      <td>HDFC Bank</td>\n      <td>157.91</td>\n      <td>147.0</td>\n      <td>126.0</td>\n      <td>13099.0</td>\n    </tr>\n    <tr>\n      <th>5</th>\n      <td>Wells Fargo</td>\n      <td>155.87</td>\n      <td>145.0</td>\n      <td>125.0</td>\n      <td>12929.0</td>\n    </tr>\n    <tr>\n      <th>6</th>\n      <td>HSBC Holdings PLC</td>\n      <td>148.90</td>\n      <td>138.0</td>\n      <td>119.0</td>\n      <td>12351.0</td>\n    </tr>\n    <tr>\n      <th>7</th>\n      <td>Morgan Stanley</td>\n      <td>140.83</td>\n      <td>131.0</td>\n      <td>113.0</td>\n      <td>11682.0</td>\n    </tr>\n    <tr>\n      <th>8</th>\n      <td>China Construction Bank</td>\n      <td>139.82</td>\n      <td>130.0</td>\n      <td>112.0</td>\n      <td>11598.0</td>\n    </tr>\n    <tr>\n      <th>9</th>\n      <td>Bank of China</td>\n      <td>136.81</td>\n      <td>127.0</td>\n      <td>109.0</td>\n      <td>11348.0</td>\n    </tr>\n  </tbody>\n</table>\n</div>"
     },
     "execution_count": 79,
     "metadata": {},
     "output_type": "execute_result"
    }
   ],
   "source": [
    "import sqlite3\n",
    "conn = sqlite3.connect('Banks.db')\n",
    "df = pd.read_sql('Select * From Largest_Banks' , conn)\n",
    "conn.close()\n",
    "df"
   ],
   "metadata": {
    "collapsed": false,
    "ExecuteTime": {
     "end_time": "2024-07-20T00:07:37.043421Z",
     "start_time": "2024-07-20T00:07:36.625974Z"
    }
   },
   "id": "5716eaaa015e9e1a",
   "execution_count": 79
  },
  {
   "cell_type": "code",
   "outputs": [
    {
     "data": {
      "text/plain": "                                 Bank_Name  MC_USD_Billion  MC_EUR_Billion  \\\n0                           JPMorgan Chase          432.92          402.62   \n1                          Bank of America          231.52          215.31   \n2  Industrial and Commercial Bank of China          194.56          180.94   \n3               Agricultural Bank of China          160.68          149.43   \n4                                HDFC Bank          157.91          146.86   \n5                              Wells Fargo          155.87          144.96   \n6                        HSBC Holdings PLC          148.90          138.48   \n7                           Morgan Stanley          140.83          130.97   \n8                  China Construction Bank          139.82          130.03   \n9                            Bank of China          136.81          127.23   \n\n   MC_GBP_Billion  MC_INR_Billion  \n0          346.34        35910.71  \n1          185.22        19204.58  \n2          155.65        16138.75  \n3          128.54        13328.41  \n4          126.33        13098.63  \n5          124.70        12929.42  \n6          119.12        12351.26  \n7          112.66        11681.85  \n8          111.86        11598.07  \n9          109.45        11348.39  ",
      "text/html": "<div>\n<style scoped>\n    .dataframe tbody tr th:only-of-type {\n        vertical-align: middle;\n    }\n\n    .dataframe tbody tr th {\n        vertical-align: top;\n    }\n\n    .dataframe thead th {\n        text-align: right;\n    }\n</style>\n<table border=\"1\" class=\"dataframe\">\n  <thead>\n    <tr style=\"text-align: right;\">\n      <th></th>\n      <th>Bank_Name</th>\n      <th>MC_USD_Billion</th>\n      <th>MC_EUR_Billion</th>\n      <th>MC_GBP_Billion</th>\n      <th>MC_INR_Billion</th>\n    </tr>\n  </thead>\n  <tbody>\n    <tr>\n      <th>0</th>\n      <td>JPMorgan Chase</td>\n      <td>432.92</td>\n      <td>402.62</td>\n      <td>346.34</td>\n      <td>35910.71</td>\n    </tr>\n    <tr>\n      <th>1</th>\n      <td>Bank of America</td>\n      <td>231.52</td>\n      <td>215.31</td>\n      <td>185.22</td>\n      <td>19204.58</td>\n    </tr>\n    <tr>\n      <th>2</th>\n      <td>Industrial and Commercial Bank of China</td>\n      <td>194.56</td>\n      <td>180.94</td>\n      <td>155.65</td>\n      <td>16138.75</td>\n    </tr>\n    <tr>\n      <th>3</th>\n      <td>Agricultural Bank of China</td>\n      <td>160.68</td>\n      <td>149.43</td>\n      <td>128.54</td>\n      <td>13328.41</td>\n    </tr>\n    <tr>\n      <th>4</th>\n      <td>HDFC Bank</td>\n      <td>157.91</td>\n      <td>146.86</td>\n      <td>126.33</td>\n      <td>13098.63</td>\n    </tr>\n    <tr>\n      <th>5</th>\n      <td>Wells Fargo</td>\n      <td>155.87</td>\n      <td>144.96</td>\n      <td>124.70</td>\n      <td>12929.42</td>\n    </tr>\n    <tr>\n      <th>6</th>\n      <td>HSBC Holdings PLC</td>\n      <td>148.90</td>\n      <td>138.48</td>\n      <td>119.12</td>\n      <td>12351.26</td>\n    </tr>\n    <tr>\n      <th>7</th>\n      <td>Morgan Stanley</td>\n      <td>140.83</td>\n      <td>130.97</td>\n      <td>112.66</td>\n      <td>11681.85</td>\n    </tr>\n    <tr>\n      <th>8</th>\n      <td>China Construction Bank</td>\n      <td>139.82</td>\n      <td>130.03</td>\n      <td>111.86</td>\n      <td>11598.07</td>\n    </tr>\n    <tr>\n      <th>9</th>\n      <td>Bank of China</td>\n      <td>136.81</td>\n      <td>127.23</td>\n      <td>109.45</td>\n      <td>11348.39</td>\n    </tr>\n  </tbody>\n</table>\n</div>"
     },
     "execution_count": 84,
     "metadata": {},
     "output_type": "execute_result"
    }
   ],
   "source": [
    "query = \"Select * From Largest_Banks\"\n",
    "conn = sqlite3.connect('Banks.db')\n",
    "df = pd.read_sql(query, conn)\n",
    "df"
   ],
   "metadata": {
    "collapsed": false,
    "ExecuteTime": {
     "end_time": "2024-07-20T00:41:16.177881Z",
     "start_time": "2024-07-20T00:41:16.157779Z"
    }
   },
   "id": "40d927083427a1da",
   "execution_count": 84
  }
 ],
 "metadata": {
  "kernelspec": {
   "display_name": "Python 3",
   "language": "python",
   "name": "python3"
  },
  "language_info": {
   "codemirror_mode": {
    "name": "ipython",
    "version": 2
   },
   "file_extension": ".py",
   "mimetype": "text/x-python",
   "name": "python",
   "nbconvert_exporter": "python",
   "pygments_lexer": "ipython2",
   "version": "2.7.6"
  }
 },
 "nbformat": 4,
 "nbformat_minor": 5
}
